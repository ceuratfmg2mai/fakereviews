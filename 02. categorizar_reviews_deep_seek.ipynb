{
 "cells": [
  {
   "cell_type": "markdown",
   "id": "bc3896f5",
   "metadata": {},
   "source": [
    "# Librerías"
   ]
  },
  {
   "cell_type": "code",
   "execution_count": 1,
   "id": "4e7c2e0f",
   "metadata": {},
   "outputs": [
    {
     "name": "stdout",
     "output_type": "stream",
     "text": [
      "\u001b[1m\u001b[38;5;208mVersión pandas: 2.2.3\n",
      "\u001b[1m\u001b[38;5;208mVersión polars: 1.27.1\n",
      "\u001b[1m\u001b[38;5;208mVersión pyarrow: 16.1.0\n",
      "\u001b[1m\u001b[38;5;208mVersión OpenAI: 1.75.0\n"
     ]
    }
   ],
   "source": [
    "import polars as pl\n",
    "import pandas as pd\n",
    "import pyarrow\n",
    "import sys\n",
    "import openai\n",
    "from openai import OpenAI, RateLimitError, APIError\n",
    "import kagglehub\n",
    "import threading\n",
    "\n",
    "import time\n",
    "start_time_global = time.time()\n",
    "import json\n",
    "import os\n",
    "from dotenv import load_dotenv, find_dotenv \n",
    "import queue\n",
    "from typing import Tuple\n",
    "import httpx\n",
    "\n",
    "color = '\\033[1m\\033[38;5;208m' \n",
    "print(f\"{color}Versión pandas: {pd.__version__}\")\n",
    "print(f\"{color}Versión polars: {pl.__version__}\")\n",
    "print(f\"{color}Versión pyarrow: {pyarrow.__version__}\")\n",
    "print(f\"{color}Versión OpenAI: {openai.__version__}\")"
   ]
  },
  {
   "cell_type": "markdown",
   "id": "d18fd3c4",
   "metadata": {},
   "source": [
    "# Inicialización y configuración de variables genéricas"
   ]
  },
  {
   "cell_type": "markdown",
   "id": "88af626c",
   "metadata": {},
   "source": [
    "## 1. Inicialización de las variables de entorno"
   ]
  },
  {
   "cell_type": "code",
   "execution_count": 2,
   "id": "5297b39b",
   "metadata": {},
   "outputs": [
    {
     "name": "stdout",
     "output_type": "stream",
     "text": [
      "Archivo .env encontrado y cargado exitosamente.\n"
     ]
    }
   ],
   "source": [
    "#Cargar las variable de entorno\n",
    "dotenv_path = find_dotenv()\n",
    "carga_env = load_dotenv(dotenv_path=dotenv_path) \n",
    "if carga_env:\n",
    "    print(\"Archivo .env encontrado y cargado exitosamente.\")\n",
    "else:\n",
    "    print(\"No se encontró el archivo .env o no se pudo cargar.\")"
   ]
  },
  {
   "cell_type": "code",
   "execution_count": 3,
   "id": "97d9425e",
   "metadata": {},
   "outputs": [],
   "source": [
    "#Directorio de trabajo\n",
    "explicit_work_path = os.getenv('HOME_WORK')\n",
    "# Agrega la carpeta fakereviews al syspath del proyecto\n",
    "if explicit_work_path not in sys.path:\n",
    "    sys.path.append(explicit_work_path)\n",
    "from review_module import ReviewFinder"
   ]
  },
  {
   "cell_type": "code",
   "execution_count": 4,
   "id": "972883a0",
   "metadata": {},
   "outputs": [
    {
     "name": "stdout",
     "output_type": "stream",
     "text": [
      "Clave API y URL base de DeepSeek configuradas correctamente.\n"
     ]
    }
   ],
   "source": [
    "# --- 1. Configuración de la API Key y Base URL de DeepSeek ---\n",
    "try:\n",
    "    deepseek_api_key = os.environ[\"DEEPSEEK_API_KEY\"]\n",
    "    deepseek_base_url = os.environ[\"DEEPSEEK_API_URL\"]\n",
    "    deepseek_time_out = float(os.environ['DEEPSEEK_TIMEOUT'])\n",
    "    print(\"Clave API y URL base de DeepSeek configuradas correctamente.\")\n",
    "except KeyError:\n",
    "    print(\"Error: Las variables de entorno 'DEEPSEEK_API_KEY' o 'DEEPSEEK_BASE_URL' no están configuradas.\")"
   ]
  },
  {
   "cell_type": "markdown",
   "id": "71286875",
   "metadata": {},
   "source": [
    "## 2. Lectura del fichero de las reseñas a evaluar por el modelo."
   ]
  },
  {
   "cell_type": "code",
   "execution_count": 5,
   "id": "3d137f3b",
   "metadata": {},
   "outputs": [
    {
     "name": "stdout",
     "output_type": "stream",
     "text": [
      "\n",
      "Total de reseñas a procesar: 17000\n"
     ]
    }
   ],
   "source": [
    "# Lectura del fichero de las reseñas seleccionadas de yelp\n",
    "review_selected_file_path = f'{explicit_work_path}yelp_academic_dataset_review_selected.jsonl'\n",
    "df_data_reviews_selected_pl = pl.read_json(review_selected_file_path)\n",
    "print(f\"\\nTotal de reseñas a procesar: {df_data_reviews_selected_pl.shape[0]}\")"
   ]
  },
  {
   "cell_type": "markdown",
   "id": "601a2e47",
   "metadata": {},
   "source": [
    "## 3. Lectura del fichero de reseñas de ejemplo para realizar la ejecución y uso del método de few-shot prompting"
   ]
  },
  {
   "cell_type": "code",
   "execution_count": 6,
   "id": "9817659e",
   "metadata": {},
   "outputs": [
    {
     "name": "stdout",
     "output_type": "stream",
     "text": [
      "Datos cargados exitosamente desde /home/familia4/fakereviews/base_reviews.json\n",
      "ReviewFinder inicializado con 41 categorías originales.\n",
      "Batería de reseñas cargadas\n"
     ]
    }
   ],
   "source": [
    "file_path = f'{explicit_work_path}base_reviews.json'\n",
    "review_data = {}\n",
    "\n",
    "try:\n",
    "    with open(file_path, 'r', encoding='utf-8') as f:\n",
    "        review_data = json.load(f)\n",
    "    print(f\"Datos cargados exitosamente desde {file_path}\")\n",
    "    # Crear una instancia de la clase, pasando los datos cargados\n",
    "    finder = ReviewFinder(review_data)\n",
    "except FileNotFoundError:\n",
    "    print(f\"Error: El archivo '{file_path}' no fue encontrado.\")\n",
    "except json.JSONDecodeError:\n",
    "    print(f\"Error: El archivo '{file_path}' no contiene un JSON válido.\")\n",
    "except Exception as e:\n",
    "    print(f\"Ocurrió un error inesperado al cargar el archivo: {e}\")\n",
    "else: \n",
    "    print('Batería de reseñas cargadas')"
   ]
  },
  {
   "cell_type": "markdown",
   "id": "da996bf9",
   "metadata": {},
   "source": [
    "## 4. Prueba de búsqueda de algún conjunto de reseña."
   ]
  },
  {
   "cell_type": "code",
   "execution_count": 7,
   "id": "1e7a3f3e",
   "metadata": {},
   "outputs": [
    {
     "name": "stdout",
     "output_type": "stream",
     "text": [
      "\n",
      "--- Búsqueda de Reseñas ---\n",
      "Encontradas 2 falsas y 2 genuinas para 'Italian, Restaurants'.\n"
     ]
    },
    {
     "data": {
      "text/plain": [
       "{'fake': [{'review_text': \"Authentic Italian cuisine at its finest! Every dish is a delight, made with fresh ingredients and lots of love. The homemade pasta is spectacular, perfectly al dente! The risottos are creamy and full of flavor. And the desserts... mamma mia! The atmosphere is cozy, and the service is unbeatable. It transports you to Italy! The best Italian in the city! Reservations essential! Don't miss it!\",\n",
       "   'star': 5,\n",
       "   'stars_business': 4.7,\n",
       "   'review_count_business': 1150,\n",
       "   'average_stars_user': 4.8,\n",
       "   'review_count_user': 75,\n",
       "   'categories': ['Italian', 'Restaurants']},\n",
       "  {'review_text': \"Disappointing Italian food. Bland dishes, overcooked pasta, and industrial sauces. Nothing like real Italian cuisine. The service was slow, disorganized, and unfriendly. The place is noisy and cramped. Expensive prices for the low quality offered. I don't recommend it at all. A waste of time and money! Look elsewhere if you want to eat well!\",\n",
       "   'star': 1,\n",
       "   'stars_business': 2.2,\n",
       "   'review_count_business': 480,\n",
       "   'average_stars_user': 1.9,\n",
       "   'review_count_user': 13,\n",
       "   'categories': ['Italian', 'Restaurants']}],\n",
       " 'genuine': [{'review_text': \"Italian restaurant with an elegant atmosphere. We tried the vitello tonnato as a starter (very good) and then ossobuco with risotto alla milanese and spaghetti alle vongole. The ossobuco was tender and flavorful, and the risotto was perfectly cooked. The spaghetti had a good sea flavor, although perhaps too many empty shells. Service was very professional and attentive. Prices are high; it's a place for a special occasion. Good quality.\",\n",
       "   'star': 4,\n",
       "   'stars_business': 4.5,\n",
       "   'review_count_business': 920,\n",
       "   'average_stars_user': 4.4,\n",
       "   'review_count_user': 42,\n",
       "   'categories': ['Italian', 'Restaurants']},\n",
       "  {'review_text': 'Neighborhood trattoria with traditional dishes. We ordered baked provolone and Caprese salad to share, followed by lasagna and saltimbocca alla romana. Starters were okay. The homemade lasagna was good, generous portion. The saltimbocca was a bit dry for my taste. Service was friendly but somewhat slow. The place is simple. Moderate prices. An acceptable option for uncomplicated homemade Italian food.',\n",
       "   'star': 3,\n",
       "   'stars_business': 3.7,\n",
       "   'review_count_business': 610,\n",
       "   'average_stars_user': 3.6,\n",
       "   'review_count_user': 16,\n",
       "   'categories': ['Italian', 'Restaurants']}]}"
      ]
     },
     "metadata": {},
     "output_type": "display_data"
    }
   ],
   "source": [
    "try:\n",
    "    print(\"\\n--- Búsqueda de Reseñas ---\")\n",
    "    review_find ='Italian, Restaurants'\n",
    "    finded_reviews = finder.get_reviews_by_category(review_find)\n",
    "    print(f\"Encontradas {len(finded_reviews['fake'])} falsas y {len(finded_reviews['genuine'])} genuinas para '{review_find}'.\")\n",
    "    # Imprimir algunas reseñas de ejemplo\n",
    "    display(finded_reviews)\n",
    "    finded_reviews = None \n",
    "    review_find = None\n",
    "except Exception as e:\n",
    "    print(e)\n"
   ]
  },
  {
   "cell_type": "markdown",
   "id": "b85ed9e4",
   "metadata": {},
   "source": [
    "Comprobación de la existencia de todas las categorías en el dataset de reviews categorizadas."
   ]
  },
  {
   "cell_type": "code",
   "execution_count": 8,
   "id": "d19db74c",
   "metadata": {},
   "outputs": [
    {
     "data": {
      "text/plain": [
       "(True, set())"
      ]
     },
     "execution_count": 8,
     "metadata": {},
     "output_type": "execute_result"
    }
   ],
   "source": [
    "finder.verify_categories_exist(df_data_reviews_selected_pl['categories'].to_list())"
   ]
  },
  {
   "cell_type": "markdown",
   "id": "0696d467",
   "metadata": {},
   "source": [
    "# Categorización de las reseñas por DeepSeek"
   ]
  },
  {
   "cell_type": "markdown",
   "id": "100e21a9",
   "metadata": {},
   "source": [
    "A continuación, enviamos cada una de las reseñas seleccionados del dataset de Yelp para la categorización pora el modelo de IA DeepSeek."
   ]
  },
  {
   "cell_type": "markdown",
   "id": "83359348",
   "metadata": {},
   "source": [
    "## 1. Defnimos el comportamiento del prompt con la técnica de few-shot prompting."
   ]
  },
  {
   "cell_type": "code",
   "execution_count": 9,
   "id": "a86e9e2d",
   "metadata": {},
   "outputs": [],
   "source": [
    "example_base_review_template = f\"\"\"\n",
    "        ---\n",
    "        Example {{type}} Review Text: {{review_text}}\n",
    "        Example {{type}} Review Stars: {{stars}}\n",
    "        Example {{type}} Business Avg Stars: {{stars_business}}\n",
    "        Example {{type}} Business Review Count: {{review_count_business}}\n",
    "        Example {{type}} User Avg Stars: {{average_stars_user}}\n",
    "        Example {{type}} User Review Count: {{review_count_user}}\n",
    "        Example {{type}} Business Categories: {{categories}}\n",
    "        ---\n",
    "        \"\"\"\n",
    "# Modificamos la plantilla para usar llaves simples para .format()\n",
    "example_base_review_template = example_base_review_template.replace(\"{{\", \"{\").replace(\"}}\", \"}\")"
   ]
  },
  {
   "cell_type": "code",
   "execution_count": 10,
   "id": "2fdd5fc8",
   "metadata": {},
   "outputs": [],
   "source": [
    "base_prompt_template = f\"\"\"\n",
    "* Task: Classify the customer review provided at the end into a single category: Genuine or Fake, considering the review text AND associated metadata.\n",
    "\n",
    "* Metadata Provided:\n",
    "- Review Stars: Rating (1-5) in this specific review.\n",
    "- Business Avg Stars: The business's average rating across all reviews.\n",
    "- Business Review Count: Total number of reviews for the business.\n",
    "- User Avg Stars: The average rating given by this user across all their reviews.\n",
    "- User Review Count: Total number of reviews written by this user.\n",
    "- Business Categories: List of categories the business belongs to.\n",
    "\n",
    "* Category Definitions:\n",
    "- Genuine: The review appears to be from a real customer with an authentic experience. Details in text are often plausible and consistent with metadata patterns (e.g., user has some review history, rating aligns somewhat with user/business averages unless specific reasons given in text). The Business Categories provide context about the type of service/product reviewed. # <-- Mención añadida\n",
    "- Fake: The review appears artificial, possibly promotional or defamatory. May show metadata inconsistencies (e.g., user with 1 review count + extreme generic rating, rating wildly different from business average without clear textual explanation). Text details (or lack thereof) are primary, but metadata provides important context. The Business Categories provide context about the type of service/product reviewed. # <-- Mención añadida\n",
    "\n",
    "* Examples of Classification (including metadata):\n",
    "--- START EXAMPLES ---\n",
    "{{reviews_examples_with_metadata}}\n",
    "--- END EXAMPLES ---\n",
    "\n",
    "* Now, classify the following review using its text and metadata:\n",
    "\n",
    "- Review Text: {{text}}\n",
    "- Review Stars: {{stars}}\n",
    "- Business Avg Stars: {{stars_business}}\n",
    "- Business Review Count: {{review_count_business}}\n",
    "- User Avg Stars: {{average_stars_user}}\n",
    "- User Review Count: {{review_count_user}}\n",
    "- Business Categories: {{categories}} \n",
    "\n",
    "* Output Instructions: Return ONLY the category name ('Genuine' or 'Fake') and nothing else.\n",
    "\"\"\"\n",
    "# Modificamos la plantilla para usar llaves simples para .format()\n",
    "base_prompt_template = base_prompt_template.replace(\"{{\", \"{\").replace(\"}}\", \"}\")"
   ]
  },
  {
   "cell_type": "markdown",
   "id": "e18d324e",
   "metadata": {},
   "source": [
    "## 2. Seguimos con el formateo de los ejemplos en una unica cadena de texto."
   ]
  },
  {
   "cell_type": "code",
   "execution_count": 11,
   "id": "10960eba",
   "metadata": {},
   "outputs": [],
   "source": [
    "# Lista de columnas necesarias para la plantilla del prompt\n",
    "columns_needed_prompt = [\n",
    "    \"text\", \"stars\", \"stars_business\", \"review_count_business\",\n",
    "    \"average_stars_user\", \"review_count_user\", \"categories\"\n",
    "]\n",
    "\n",
    "def format_prompt_for_row(row_data: dict) -> str:\n",
    "    \"\"\"\n",
    "    Toma un diccionario (row_data) con los datos de la fila y rellena la plantilla.\n",
    "    Maneja valores nulos convirtiéndolos a string (p.ej., 'None').\n",
    "    \"\"\"\n",
    "    # Crea una copia o un nuevo diccionario para asegurar que todos los valores sean strings\n",
    "    # y manejar los nulos de forma segura para .format()\n",
    "    data_for_format = {}\n",
    "    final_prompt = None\n",
    "    separator = \", \"\n",
    "    for key, value in row_data.items():   \n",
    "        if key == 'text':\n",
    "            data_for_format[key] = str(value).replace('\\n', ' ')\n",
    "        else:     \n",
    "            data_for_format[key] = str(value)\n",
    "\n",
    "        reviews_examples = ''\n",
    "\n",
    "        if key == 'categories':\n",
    "            find_category = str(value)\n",
    "            finded_reviews = finder.get_reviews_by_category(find_category)\n",
    "            for type_review in finded_reviews:\n",
    "                formated_example_base_review = None\n",
    "                for review_dict in finded_reviews[type_review]:\n",
    "                    joined_category_string = separator.join(review_dict['categories'])\n",
    "                    formated_example_base_review = example_base_review_template.format(\n",
    "                        type = type_review,\n",
    "                        review_text = review_dict['review_text'],\n",
    "                        stars=review_dict['star'],\n",
    "                        stars_business=review_dict['stars_business'],\n",
    "                        review_count_business=review_dict['review_count_business'],\n",
    "                        average_stars_user=review_dict['average_stars_user'],\n",
    "                        review_count_user=review_dict['review_count_user'],\n",
    "                        categories=str(joined_category_string) # Convertir lista a string\n",
    "                    )\n",
    "                    reviews_examples = reviews_examples + formated_example_base_review\n",
    "            data_for_format['reviews_examples_with_metadata'] = reviews_examples\n",
    "        \n",
    "    \n",
    "    try:\n",
    "        return base_prompt_template.format(**data_for_format)\n",
    "    except KeyError as e:\n",
    "        # Error útil si falta un placeholder en los datos de la fila\n",
    "        print(f\"Error: Falta la clave {e} en los datos de la fila para formatear la plantilla.\")\n",
    "        return f\"ERROR_FORMATTING_MISSING_KEY_{e}\"\n",
    "    except Exception as e:\n",
    "        print(f\"Error inesperado al formatear: {e}\")\n",
    "        return \"ERROR_FORMATTING_UNEXPECTED\""
   ]
  },
  {
   "cell_type": "markdown",
   "id": "e03d170e",
   "metadata": {},
   "source": [
    "## 3. Procesamiento y creación del prompt para cada una de las reseñas."
   ]
  },
  {
   "cell_type": "code",
   "execution_count": 12,
   "id": "73e949a9",
   "metadata": {},
   "outputs": [
    {
     "name": "stdout",
     "output_type": "stream",
     "text": [
      "DataFrame Polars con la nueva columna 'prompt_completo' (17000 filas):\n",
      "\n",
      "Ejemplo de la primera fila de la columna 'prompt_completo':\n",
      "\n",
      "* Task: Classify the customer review provided at the end into a single category: Genuine or Fake, considering the review text AND associated metadata.\n",
      "\n",
      "* Metadata Provided:\n",
      "- Review Stars: Rating (1-5) in this specific review.\n",
      "- Business Avg Stars: The business's average rating across all reviews.\n",
      "- Business Review Count: Total number of reviews for the business.\n",
      "- User Avg Stars: The average rating given by this user across all their reviews.\n",
      "- User Review Count: Total number of reviews written by this user.\n",
      "- Business Categories: List of categories the business belongs to.\n",
      "\n",
      "* Category Definitions:\n",
      "- Genuine: The review appears to be from a real customer with an authentic experience. Details in text are often plausible and consistent with metadata patterns (e.g., user has some review history, rating aligns somewhat with user/business averages unless specific reasons given in text). The Business Categories provide context about the type of service/product reviewed. # <-- Mención añadida\n",
      "- Fake: The review appears artificial, possibly promotional or defamatory. May show metadata inconsistencies (e.g., user with 1 review count + extreme generic rating, rating wildly different from business average without clear textual explanation). Text details (or lack thereof) are primary, but metadata provides important context. The Business Categories provide context about the type of service/product reviewed. # <-- Mención añadida\n",
      "\n",
      "* Examples of Classification (including metadata):\n",
      "--- START EXAMPLES ---\n",
      "\n",
      "        ---\n",
      "        Example fake Review Text: Authentic Italian cuisine at its finest! Every dish is a delight, made with fresh ingredients and lots of love. The homemade pasta is spectacular, perfectly al dente! The risottos are creamy and full of flavor. And the desserts... mamma mia! The atmosphere is cozy, and the service is unbeatable. It transports you to Italy! The best Italian in the city! Reservations essential! Don't miss it!\n",
      "        Example fake Review Stars: 5\n",
      "        Example fake Business Avg Stars: 4.7\n",
      "        Example fake Business Review Count: 1150\n",
      "        Example fake User Avg Stars: 4.8\n",
      "        Example fake User Review Count: 75\n",
      "        Example fake Business Categories: Italian, Restaurants\n",
      "        ---\n",
      "        \n",
      "        ---\n",
      "        Example fake Review Text: Disappointing Italian food. Bland dishes, overcooked pasta, and industrial sauces. Nothing like real Italian cuisine. The service was slow, disorganized, and unfriendly. The place is noisy and cramped. Expensive prices for the low quality offered. I don't recommend it at all. A waste of time and money! Look elsewhere if you want to eat well!\n",
      "        Example fake Review Stars: 1\n",
      "        Example fake Business Avg Stars: 2.2\n",
      "        Example fake Business Review Count: 480\n",
      "        Example fake User Avg Stars: 1.9\n",
      "        Example fake User Review Count: 13\n",
      "        Example fake Business Categories: Italian, Restaurants\n",
      "        ---\n",
      "        \n",
      "        ---\n",
      "        Example genuine Review Text: Italian restaurant with an elegant atmosphere. We tried the vitello tonnato as a starter (very good) and then ossobuco with risotto alla milanese and spaghetti alle vongole. The ossobuco was tender and flavorful, and the risotto was perfectly cooked. The spaghetti had a good sea flavor, although perhaps too many empty shells. Service was very professional and attentive. Prices are high; it's a place for a special occasion. Good quality.\n",
      "        Example genuine Review Stars: 4\n",
      "        Example genuine Business Avg Stars: 4.5\n",
      "        Example genuine Business Review Count: 920\n",
      "        Example genuine User Avg Stars: 4.4\n",
      "        Example genuine User Review Count: 42\n",
      "        Example genuine Business Categories: Italian, Restaurants\n",
      "        ---\n",
      "        \n",
      "        ---\n",
      "        Example genuine Review Text: Neighborhood trattoria with traditional dishes. We ordered baked provolone and Caprese salad to share, followed by lasagna and saltimbocca alla romana. Starters were okay. The homemade lasagna was good, generous portion. The saltimbocca was a bit dry for my taste. Service was friendly but somewhat slow. The place is simple. Moderate prices. An acceptable option for uncomplicated homemade Italian food.\n",
      "        Example genuine Review Stars: 3\n",
      "        Example genuine Business Avg Stars: 3.7\n",
      "        Example genuine Business Review Count: 610\n",
      "        Example genuine User Avg Stars: 3.6\n",
      "        Example genuine User Review Count: 16\n",
      "        Example genuine Business Categories: Italian, Restaurants\n",
      "        ---\n",
      "        \n",
      "--- END EXAMPLES ---\n",
      "\n",
      "* Now, classify the following review using its text and metadata:\n",
      "\n",
      "- Review Text: This place is nothing special. I've eaten here enough times to know!  Each time, I end up saying,\"Should have gone to Carabba's!\"  Or Olive Garden for that matter. The food is mediocre.  The only good thing about this place is its prime location for sidewalk dining.\n",
      "- Review Stars: 2.0\n",
      "- Business Avg Stars: 3.0\n",
      "- Business Review Count: 129\n",
      "- User Avg Stars: 2.95\n",
      "- User Review Count: 518\n",
      "- Business Categories: Italian, Restaurants \n",
      "\n",
      "* Output Instructions: Return ONLY the category name ('Genuine' or 'Fake') and nothing else.\n",
      "\n",
      "--------------------------------------------------\n",
      "\n",
      "La operación fue exitosa en 52.46seg\n"
     ]
    }
   ],
   "source": [
    "start_time=time.time()\n",
    "try:\n",
    "    df_data_reviews_selected_pl = df_data_reviews_selected_pl.with_columns(\n",
    "        # Crea un struct (como un objeto temporal por fila) con las columnas necesarias\n",
    "        pl.struct([pl.col(c) for c in columns_needed_prompt])\n",
    "        # Aplica la función de formateo a cada struct\n",
    "        .map_elements(\n",
    "            lambda row_struct: format_prompt_for_row(row_struct),\n",
    "            return_dtype=pl.Utf8  # Especifica que la función devuelve strings\n",
    "        )\n",
    "        # Dale un nombre a la nueva columna resultante\n",
    "        .alias(\"prompt_completo\")\n",
    "    )\n",
    "    # --- 5. Mostrar resultado (opcional) ---\n",
    "    print(f\"DataFrame Polars con la nueva columna 'prompt_completo' ({len(df_data_reviews_selected_pl )} filas):\")\n",
    "    pl.Config.set_fmt_str_lengths(200) # Aumenta el ancho para ver mejor el prompt\n",
    "\n",
    "    # Imprime solo la nueva columna para verificar una fila\n",
    "    print(\"\\nEjemplo de la primera fila de la columna 'prompt_completo':\")\n",
    "    print(df_data_reviews_selected_pl.row(0, named=True)['prompt_completo'])\n",
    "except Exception as e:\n",
    "    print(f\"An error occurred: {e}\")\n",
    "else: \n",
    "    print(\"-\" * 50 + \"\\n\")\n",
    "    print(f\"La operación fue exitosa en {time.time()-start_time:.2f}seg\")"
   ]
  },
  {
   "cell_type": "code",
   "execution_count": 13,
   "id": "cbd40165",
   "metadata": {},
   "outputs": [
    {
     "name": "stdout",
     "output_type": "stream",
     "text": [
      "Fichero seleccionados guardado en IPC\n"
     ]
    }
   ],
   "source": [
    "# --Opcional -- Guardar como Arrow IPC\n",
    "try:\n",
    "    review_selected_file_path = f'{explicit_work_path}yelp_academic_dataset_review_selected_prompt.arrow'\n",
    "    df_data_reviews_selected_pl.write_ipc(review_selected_file_path, compression='zstd')    \n",
    "except Exception as e:\n",
    "    print(f\"Error al guardar IPC: {e}\")\n",
    "else:\n",
    "    print('Fichero seleccionados guardado en IPC')"
   ]
  },
  {
   "cell_type": "markdown",
   "id": "4496b326",
   "metadata": {},
   "source": [
    "### 3.1 Punto de control"
   ]
  },
  {
   "cell_type": "code",
   "execution_count": 5,
   "id": "ef3cf3de",
   "metadata": {},
   "outputs": [
    {
     "name": "stdout",
     "output_type": "stream",
     "text": [
      "¡Archivo de reseñas con prompt leido!\n",
      "shape: (1, 11)\n",
      "┌───────────┬───────────┬───────────┬───────────┬───┬───────────┬───────────┬───────────┬──────────┐\n",
      "│ review_id ┆ user_id   ┆ business_ ┆ text      ┆ … ┆ stars_bus ┆ review_co ┆ average_s ┆ prompt_c │\n",
      "│ ---       ┆ ---       ┆ id        ┆ ---       ┆   ┆ iness     ┆ unt_user  ┆ tars_user ┆ ompleto  │\n",
      "│ str       ┆ str       ┆ ---       ┆ str       ┆   ┆ ---       ┆ ---       ┆ ---       ┆ ---      │\n",
      "│           ┆           ┆ str       ┆           ┆   ┆ f64       ┆ i64       ┆ f64       ┆ str      │\n",
      "╞═══════════╪═══════════╪═══════════╪═══════════╪═══╪═══════════╪═══════════╪═══════════╪══════════╡\n",
      "│ YkbKQcSDQ ┆ IpLRJY4CP ┆ 34-i9B0d0 ┆ This      ┆ … ┆ 3.0       ┆ 518       ┆ 2.95      ┆          │\n",
      "│ AMJm0WboU ┆ 3fXtlEd8Y ┆ r0575-x6x ┆ place is  ┆   ┆           ┆           ┆           ┆ * Task:  │\n",
      "│ BOLA      ┆ 4GFQ      ┆ DTsw      ┆ nothing   ┆   ┆           ┆           ┆           ┆ Classify │\n",
      "│           ┆           ┆           ┆ special.… ┆   ┆           ┆           ┆           ┆ the cust │\n",
      "│           ┆           ┆           ┆           ┆   ┆           ┆           ┆           ┆ omer…    │\n",
      "└───────────┴───────────┴───────────┴───────────┴───┴───────────┴───────────┴───────────┴──────────┘\n",
      "(17000, 11)\n",
      "Schema({'review_id': String, 'user_id': String, 'business_id': String, 'text': String, 'stars': Float64, 'categories': String, 'review_count_business': Int64, 'stars_business': Float64, 'review_count_user': Int64, 'average_stars_user': Float64, 'prompt_completo': String})\n"
     ]
    }
   ],
   "source": [
    "# En caso de error debe volver a iniciar desde la lectura.\n",
    "try:\n",
    "    review_selected_file_path = f'{explicit_work_path}yelp_academic_dataset_review_selected_prompt.arrow'\n",
    "    df_data_reviews_selected_pl = pl.read_ipc(review_selected_file_path, memory_map=False)\n",
    "    print(\"¡Archivo de reseñas con prompt leido!\")\n",
    "    # Muestra las primeras filas y la información del DataFrame\n",
    "    print(df_data_reviews_selected_pl.head(1))\n",
    "    print(df_data_reviews_selected_pl.shape)\n",
    "    print(df_data_reviews_selected_pl.schema)\n",
    "\n",
    "except FileNotFoundError:\n",
    "    print(f\"Error: El archivo no se encontró en la ruta: {review_selected_file_path}\")\n",
    "except Exception as e:\n",
    "    print(f\"Ocurrió un error al leer el archivo con Polars: {e}\")"
   ]
  },
  {
   "cell_type": "markdown",
   "id": "87fe150d",
   "metadata": {},
   "source": [
    "## 4. Función control de re-ejecución de categorización\n",
    "A continuación, una función para controlar la ultima ejecución del dataset y no iniciar desde el principio."
   ]
  },
  {
   "cell_type": "code",
   "execution_count": 10,
   "id": "f1d75c02",
   "metadata": {},
   "outputs": [
    {
     "name": "stdout",
     "output_type": "stream",
     "text": [
      "\n",
      "Archivo temporal '/home/familia4/fakereviews/final_reviews_categorize.jsonl' encontrado. Leyendo índices procesados...\n",
      "Encontrados 372 reseñas procesadas anteriormente.\n"
     ]
    }
   ],
   "source": [
    "# Lógica para reanudar el procesamiento\n",
    "# Función para leer índices procesados\n",
    "def get_processed_indices(temp_file_path: str) -> set[int]:\n",
    "    \"\"\"\n",
    "    Lee el archivo temporal JSON Lines y devuelve un conjunto de índices\n",
    "    de reseñas que ya han sido procesadas.\n",
    "\n",
    "    Args:\n",
    "        temp_file_path: La ruta al archivo temporal JSON Lines.\n",
    "\n",
    "    Returns:\n",
    "        Un conjunto de enteros representando los índices procesados.\n",
    "    \"\"\"\n",
    "    processed_indices = set()\n",
    "    if os.path.exists(temp_file_path):\n",
    "        print(f\"\\nArchivo temporal '{temp_file_path}' encontrado. Leyendo índices procesados...\")\n",
    "        try:\n",
    "            with open(temp_file_path, 'r', encoding='utf8') as f:\n",
    "                for line_num, line in enumerate(f):\n",
    "                    line = line.strip()\n",
    "                    if not line: # Saltar líneas vacías\n",
    "                        continue\n",
    "                    try:\n",
    "                        data = json.loads(line)\n",
    "                        # Asumimos que el índice se guarda bajo la clave 'index'\n",
    "                        if 'review_id' in data:\n",
    "                            processed_indices.add(data['review_id'])\n",
    "                        else:\n",
    "                             print(f\"Advertencia: Línea {line_num + 1} en '{temp_file_path}' no contiene un índice válido.\")\n",
    "                    except json.JSONDecodeError:\n",
    "                        print(f\"Advertencia: Ignorando línea no válida/incompleta en el archivo temporal (línea {line_num + 1}).\")\n",
    "                        # Si la decodificación falla, asumimos que es una línea parcial al final\n",
    "                        break # Detener la lectura aquí\n",
    "            print(f\"Encontrados {len(processed_indices)} reseñas procesadas anteriormente.\")\n",
    "        except Exception as e:\n",
    "            print(f\"Error al leer el archivo temporal '{temp_file_path}': {e}\")\n",
    "            print(\"Se procesarán todas las reseñas desde el inicio por precaución.\")\n",
    "            processed_indices = set() # Si hay un error de lectura, empezar de cero\n",
    "    else:\n",
    "        print(f\"\\nArchivo temporal '{temp_file_path}' no encontrado. Iniciando procesamiento desde el inicio.\")\n",
    "\n",
    "    return processed_indices\n",
    "\n",
    "# Archivos de salida de las reseñas categorizadas\n",
    "reviews_categorize_output_file = f'{explicit_work_path}final_reviews_categorize.jsonl'\n",
    "\n",
    "# Obtener los índices ya procesados llamando a la nueva función\n",
    "processed_indices = get_processed_indices(reviews_categorize_output_file)"
   ]
  },
  {
   "cell_type": "markdown",
   "id": "3bd70e8b",
   "metadata": {},
   "source": [
    "## 5. Creación del cliente o conexión con DeepSeek.\n",
    "A continuación, haremos la conexión y la definición de variables claves para resolver la categoría de la reseña."
   ]
  },
  {
   "cell_type": "code",
   "execution_count": 11,
   "id": "44828f5e",
   "metadata": {},
   "outputs": [
    {
     "name": "stdout",
     "output_type": "stream",
     "text": [
      "Inicia procesamiento de los datos en DeepSeek\n"
     ]
    }
   ],
   "source": [
    "# modelo de DeepSeek para tareas\n",
    "MODEL_NAME = \"deepseek-chat\"\n",
    "print('Inicia procesamiento de los datos en DeepSeek')\n",
    "# --- Configurar el cliente de OpenAI para usar el endpoint de DeepSeek ---\n",
    "client = OpenAI(\n",
    "    base_url=deepseek_base_url,\n",
    "    api_key=deepseek_api_key,\n",
    "    #timeout=deepseek_time_out\n",
    "    timeout=httpx.Timeout(deepseek_time_out, connect=5.0)\n",
    ")\n",
    "\n",
    "# Variables claves\n",
    "# Crear Colas\n",
    "tasks_to_do = queue.Queue()\n",
    "results_done = queue.Queue()"
   ]
  },
  {
   "cell_type": "markdown",
   "id": "974b8699",
   "metadata": {},
   "source": [
    "## 6. Creación de workers para la conexión\n",
    "Para resolver más rapidamente la categorización de las reseñas hacemos conexión con hilos, para ello creamos la siguiente función."
   ]
  },
  {
   "cell_type": "code",
   "execution_count": 12,
   "id": "a9691f34",
   "metadata": {},
   "outputs": [],
   "source": [
    "# --- Función del Trabajador (Worker) ---\n",
    "# Esta función será ejecutada por cada hilo.\n",
    "# Toma tareas de una cola, las procesa (llama a la API) y pone resultados en otra cola.\n",
    "\n",
    "def worker(task_queue: queue.Queue, result_queue: queue.Queue, worker_id):\n",
    "    \"\"\"\n",
    "        Procesa reseñas de la cola de tareas y pone resultados en la cola de resultados.\n",
    "        Args:\n",
    "            task_queue: Contiene el id de la reseña y el prompt.\n",
    "            result_queue: Contendrá la salida de cada una de las evaluaciones.\n",
    "            worker_id: Id unico para controlar los hilos.\n",
    "\n",
    "    \"\"\"\n",
    "    \n",
    "    print(f\"[Worker {worker_id}] Iniciado.\")\n",
    "    while True:\n",
    "        start_time=time.time()\n",
    "        task_data = task_queue.get()\n",
    "        if task_data is None:\n",
    "            task_queue.task_done()\n",
    "            break\n",
    "\n",
    "        review_id = task_data.get('review_id', 'ID_DESCONOCIDO')\n",
    "        final_prompt = task_data.get('prompt_completo', None)\n",
    "        if not final_prompt:\n",
    "            print(f\"[Worker {worker_id}] ERROR: Falta la clave en los datos para {review_id}. Omitiendo.\")\n",
    "            result_data = {\"review_id\": review_id, \"status\": \"missing_data_error\", \"classification\": \"None\"}\n",
    "            result_queue.put(result_data)\n",
    "            task_queue.task_done()\n",
    "            continue # Pasar a la siguiente tarea\n",
    "\n",
    "        # Preparar datos para resultado\n",
    "        result_data = {\"review_id\": review_id}\n",
    "        \n",
    "\n",
    "        try:\n",
    "\n",
    "            response = client.chat.completions.create(\n",
    "                model=MODEL_NAME,\n",
    "                messages=[{\"role\": \"system\", \"content\": final_prompt}],\n",
    "                max_tokens=10,  # Solo necesitamos 'Genuine' o 'Fake'\n",
    "                temperature=0.1, # Muy baja para clasificación directa\n",
    "                n=1,\n",
    "                stop=None # Asegurarse de que no se detenga prematuramente\n",
    "            )\n",
    "            evaluation = response.choices[0].message.content.strip()\n",
    "\n",
    "            # Validar la salida (opcional pero recomendado)\n",
    "            if evaluation in [\"Genuine\", \"Fake\"]:\n",
    "                 result_data.update({\"status\": \"success\", \"classification\": evaluation})\n",
    "            else:\n",
    "                 print(f\"[Worker {worker_id}] WARN: Salida inesperada para {review_id}: '{evaluation}'. Marcando como error.\")\n",
    "                 result_data.update({\"status\": \"invalid_output\", \"classification\": \"None\"})\n",
    "\n",
    "        except RateLimitError:\n",
    "            print(f\"[Worker {worker_id}] WARN: Rate Limit en {review_id}. Re-encolando...\")\n",
    "            task_queue.put(task_data) # Re-encolar la tarea (diccionario)\n",
    "            time.sleep(20 + worker_id * 2)\n",
    "            result_data.update({\"status\": \"rate_limit_error\", \"details\": \"Tarea re-encolada\"})\n",
    "        except APIError as e:\n",
    "            print(f\"[Worker {worker_id}] ERROR API en {review_id}: {e}\")\n",
    "            result_data.update({\"status\": \"api_error\", \"details\": str(e)})\n",
    "            print(f\"Tipo de error: {type(e).__name__}\") # Nombre de la clase de la excepción\n",
    "        except Exception as e:\n",
    "            print(f\"[Worker {worker_id}] ERROR Inesperado en {review_id}: {e}\")\n",
    "            result_data.update({\"status\": \"unexpected_error\", \"details\": str(e)})\n",
    "        finally:\n",
    "             result_queue.put(result_data)\n",
    "             task_queue.task_done()\n",
    "        print(f'[Worker {worker_id}] Terminado. Total tiempo ejecución: {time.time() - start_time:.2f}')"
   ]
  },
  {
   "cell_type": "markdown",
   "id": "f02b8649",
   "metadata": {},
   "source": [
    "## 7. Creación de función para almacenar resultados\n",
    "Con el objetivo de ir guardando los resultados de la evaluaciónd de cada reseña, la siguiente función los guardará según cada hilo vaya terminando."
   ]
  },
  {
   "cell_type": "code",
   "execution_count": 13,
   "id": "a756b944",
   "metadata": {},
   "outputs": [],
   "source": [
    "def result_writer(result_queue, filename, mode='a'):\n",
    "    print(f\"[Writer] Iniciado. Escribiendo resultados en {filename} (modo: '{mode}')\")\n",
    "    count = 0\n",
    "    processed_in_session = 0\n",
    "    try:\n",
    "        with open(filename, mode, encoding='utf-8') as f:\n",
    "            while True:\n",
    "                result_data = result_queue.get()\n",
    "                if result_data is None:\n",
    "                    result_queue.task_done()\n",
    "                    break\n",
    "                try:\n",
    "                    json_line = json.dumps(result_data, ensure_ascii=False)\n",
    "                    f.write(json_line + '\\n')\n",
    "                    processed_in_session += 1\n",
    "                    if processed_in_session % 100 == 0:\n",
    "                        print(f\"[Writer] {processed_in_session} nuevos resultados escritos en esta sesión.\")\n",
    "                except Exception as e:\n",
    "                    print(f\"[Writer] ERROR escribiendo resultado para {result_data.get('review_id', 'ID_DESCONOCIDO')}: {e}\")\n",
    "                finally:\n",
    "                    result_queue.task_done()\n",
    "    except IOError as e:\n",
    "         print(f\"[Writer] ERROR al abrir/escribir el archivo {filename}: {e}\")\n",
    "    print(f\"[Writer] Señal de parada recibida. Total escritos en esta sesión: {processed_in_session}. Terminando.\")"
   ]
  },
  {
   "cell_type": "markdown",
   "id": "8def14ba",
   "metadata": {},
   "source": [
    "## 8. Creación de hilo escritor del resultado de las reseñas"
   ]
  },
  {
   "cell_type": "code",
   "execution_count": 16,
   "id": "5e722735",
   "metadata": {},
   "outputs": [
    {
     "name": "stdout",
     "output_type": "stream",
     "text": [
      "Iniciando hilo escritor para guardar en /home/familia4/fakereviews/final_reviews_categorize.jsonl...\n",
      "[Writer] Iniciado. Escribiendo resultados en /home/familia4/fakereviews/final_reviews_categorize.jsonl (modo: 'a')\n"
     ]
    }
   ],
   "source": [
    "# 4. Iniciar Hilo Escritor (igual, pasando modo)\n",
    "print(f\"Iniciando hilo escritor para guardar en {reviews_categorize_output_file}...\")\n",
    "writer_thread = threading.Thread(target=result_writer, args=(results_done, reviews_categorize_output_file), daemon=True)\n",
    "writer_thread.start()"
   ]
  },
  {
   "cell_type": "markdown",
   "id": "a1572ec5",
   "metadata": {},
   "source": [
    "## 9. Cargar los prompts en la cola de procesamiento."
   ]
  },
  {
   "cell_type": "code",
   "execution_count": 17,
   "id": "c570b7ec",
   "metadata": {},
   "outputs": [
    {
     "name": "stdout",
     "output_type": "stream",
     "text": [
      "Llenando la cola con tareas desde el DataFrame (7000 filas).\n",
      "Cola de tareas llena con 6628 nuevas tareas (se omitieron 372 encontradas en el archivo).\n"
     ]
    }
   ],
   "source": [
    "# Selección de las columnas de trabajo.\n",
    "required_columns = ['review_id', 'prompt_completo']\n",
    "\n",
    "# 5. Llenar la cola de tareas (MODIFICADO para enviar diccionarios)\n",
    "print(f\"Llenando la cola con tareas desde el DataFrame ({len(df_data_reviews_selected_pl.limit(7000))} filas).\")\n",
    "tasks_added_this_session = 0\n",
    "# Seleccionar todas las columnas necesarias y convertir a diccionarios\n",
    "for task_dict in df_data_reviews_selected_pl.limit(7000).select(required_columns).iter_rows(named=True):\n",
    "    review_id = task_dict['review_id']\n",
    "    if review_id not in processed_indices:\n",
    "        tasks_to_do.put(task_dict) # Poner el diccionario entero en la cola\n",
    "        tasks_added_this_session += 1\n",
    "\n",
    "print(f\"Cola de tareas llena con {tasks_added_this_session} nuevas tareas (se omitieron {len(processed_indices)} encontradas en el archivo).\")\n",
    "\n",
    "# Control para finalizar los hilos.\n",
    "if tasks_added_this_session == 0:\n",
    "    print(\"No hay nuevas reseñas para procesar.\")\n",
    "    results_done.put(None)\n",
    "    writer_thread.join()\n",
    "    print(\"Proceso finalizado.\")\n",
    "    exit()"
   ]
  },
  {
   "cell_type": "markdown",
   "id": "a2e4d7c8",
   "metadata": {},
   "source": [
    "## 10. Definición de los hilos"
   ]
  },
  {
   "cell_type": "code",
   "execution_count": 18,
   "id": "549ed245",
   "metadata": {},
   "outputs": [
    {
     "name": "stdout",
     "output_type": "stream",
     "text": [
      "Creando e iniciando 5 hilos trabajadores.\n",
      "[Worker 1] Iniciado.\n",
      "[Worker 2] Iniciado.\n",
      "[Worker 3] Iniciado.\n",
      "[Worker 4] Iniciado.\n",
      "[Worker 5] Iniciado.\n",
      "Hilos trabajadores iniciados, total 5\n"
     ]
    },
    {
     "name": "stdout",
     "output_type": "stream",
     "text": [
      "[Worker 5] Terminado. Total tiempo ejecución: 5.87\n",
      "[Worker 3] Terminado. Total tiempo ejecución: 9.86\n",
      "[Worker 1] Terminado. Total tiempo ejecución: 14.57\n"
     ]
    }
   ],
   "source": [
    "NUM_THREADS = 5\n",
    "threads = []\n",
    "print(f\"Creando e iniciando {NUM_THREADS} hilos trabajadores.\")\n",
    "for i in range(NUM_THREADS):\n",
    "    # Pasar la plantilla base como argumento al worker\n",
    "    t = threading.Thread(target=worker, args=(tasks_to_do, results_done, i + 1), daemon=True)\n",
    "    t.start()\n",
    "    threads.append(t)\n",
    "print(f\"Hilos trabajadores iniciados, total {len(threads)}\")"
   ]
  },
  {
   "cell_type": "markdown",
   "id": "b474c319",
   "metadata": {},
   "source": [
    "# 11. Finalización y registro del resultado de cada uno de los hilos"
   ]
  },
  {
   "cell_type": "code",
   "execution_count": null,
   "id": "ff3fcc41",
   "metadata": {},
   "outputs": [
    {
     "name": "stdout",
     "output_type": "stream",
     "text": [
      "Esperando a que todas las tareas nuevas sean procesadas...\n"
     ]
    }
   ],
   "source": [
    "# Esperar a las tareas\n",
    "print(\"Esperando a que todas las tareas nuevas sean procesadas...\")\n",
    "tasks_to_do.join()\n",
    "print(\"Todas las tareas nuevas han sido procesadas por los workers.\")\n",
    "\n",
    "# Enviar señales stop a workers\n",
    "print(\"Enviando señales de parada (None) a los workers...\")\n",
    "for _ in range(NUM_THREADS):\n",
    "    tasks_to_do.put(None)\n",
    "\n",
    "# Esperar a workers\n",
    "print(\"Esperando a que los hilos trabajadores terminen...\")\n",
    "for t in threads:\n",
    "    t.join()\n",
    "print(\"Todos los hilos trabajadores han terminado.\")\n",
    "\n",
    "# Enviar señal stop al escritor\n",
    "print(\"Enviando señal de parada (None) al hilo escritor...\")\n",
    "results_done.put(None)\n",
    "\n",
    "# Esperar al escritor\n",
    "print(\"Esperando a que el hilo escritor termine...\")\n",
    "writer_thread.join()\n",
    "print(\"Hilo escritor terminado.\")\n",
    "\n",
    "print(f\"\\nProcesamiento completado. Los resultados actualizados están en {reviews_categorize_output_file}\")"
   ]
  }
 ],
 "metadata": {
  "kernelspec": {
   "display_name": "Python 3 (ipykernel)",
   "language": "python",
   "name": "python3"
  },
  "language_info": {
   "codemirror_mode": {
    "name": "ipython",
    "version": 3
   },
   "file_extension": ".py",
   "mimetype": "text/x-python",
   "name": "python",
   "nbconvert_exporter": "python",
   "pygments_lexer": "ipython3",
   "version": "3.12.2"
  }
 },
 "nbformat": 4,
 "nbformat_minor": 5
}
