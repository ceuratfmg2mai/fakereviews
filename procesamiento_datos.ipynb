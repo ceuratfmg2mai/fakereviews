{
 "cells": [
  {
   "cell_type": "markdown",
   "id": "7f8bca35",
   "metadata": {},
   "source": [
    "# Introducción\n"
   ]
  },
  {
   "cell_type": "code",
   "execution_count": 2,
   "id": "70b88f1a",
   "metadata": {},
   "outputs": [],
   "source": [
    "import polars as pl\n",
    "import os"
   ]
  }
 ],
 "metadata": {
  "kernelspec": {
   "display_name": "Python 3 (ipykernel)",
   "language": "python",
   "name": "python3"
  },
  "language_info": {
   "codemirror_mode": {
    "name": "ipython",
    "version": 3
   },
   "file_extension": ".py",
   "mimetype": "text/x-python",
   "name": "python",
   "nbconvert_exporter": "python",
   "pygments_lexer": "ipython3",
   "version": "3.12.2"
  }
 },
 "nbformat": 4,
 "nbformat_minor": 5
}
